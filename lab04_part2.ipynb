{
 "cells": [
  {
   "cell_type": "code",
   "execution_count": 1,
   "metadata": {},
   "outputs": [
    {
     "name": "stdout",
     "output_type": "stream",
     "text": [
      "enter values for a: 3\n",
      "enter values for b: 4\n",
      "enter values for h: 5\n",
      "area under the trapezoid = 17.500000\n"
     ]
    }
   ],
   "source": [
    "# program to compute the area under a trapezoid using a function\n",
    "# Jingchuan\n",
    "# PHYS 234\n",
    "# Department of Physics\n",
    "# University of Alberta\n",
    "\n",
    "# Variable definitions\n",
    "# a = top length of the trapezoid\n",
    "# b = bottom length of the trapezoid\n",
    "# h = height of the trapezoid\n",
    "# area = area under the trapezoid\n",
    "def findarea(a,b,h):\n",
    "    area = (a + b) * h / 2\n",
    "    return area\n",
    "\n",
    "a = float(input(\"enter values for a: \"))\n",
    "b = float(input(\"enter values for b: \"))\n",
    "h = float(input(\"enter values for h: \"))\n",
    "area = findarea(a,b,h)\n",
    "print(\"area under the trapezoid = %f\" % area)"
   ]
  },
  {
   "cell_type": "code",
   "execution_count": null,
   "metadata": {},
   "outputs": [],
   "source": []
  }
 ],
 "metadata": {
  "kernelspec": {
   "display_name": "Python 3",
   "language": "python",
   "name": "python3"
  },
  "language_info": {
   "codemirror_mode": {
    "name": "ipython",
    "version": 3
   },
   "file_extension": ".py",
   "mimetype": "text/x-python",
   "name": "python",
   "nbconvert_exporter": "python",
   "pygments_lexer": "ipython3",
   "version": "3.6.5"
  }
 },
 "nbformat": 4,
 "nbformat_minor": 2
}
