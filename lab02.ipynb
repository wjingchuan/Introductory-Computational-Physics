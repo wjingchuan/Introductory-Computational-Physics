{
 "cells": [
  {
   "cell_type": "code",
   "execution_count": 3,
   "metadata": {},
   "outputs": [
    {
     "name": "stdout",
     "output_type": "stream",
     "text": [
      "Input a number: 5\n",
      "y(5.00) = 4.10 \n",
      "\n"
     ]
    }
   ],
   "source": [
    "# **************************************************************\n",
    "# This programs demonstrates substractive cancelation\n",
    "# \n",
    "# Your Name\n",
    "# PHYS 234\n",
    "# Department of Physics\n",
    "# University of Alberta\n",
    "# Edmonton, Alberta, CANADA\n",
    "# Junk here, remove me, but change to today's date\n",
    "# *************************************************************/\n",
    "\n",
    "# ask the user for a number and read in the number\n",
    "from math import sqrt\n",
    "x = float(input(\"Input a number: \"))\n",
    "y = sqrt(x**2 + 1) - 1\n",
    "print(\"y(%.2f) = %.2f \\n\" %(x, y))"
   ]
  },
  {
   "cell_type": "code",
   "execution_count": null,
   "metadata": {},
   "outputs": [],
   "source": []
  }
 ],
 "metadata": {
  "kernelspec": {
   "display_name": "Python 3",
   "language": "python",
   "name": "python3"
  },
  "language_info": {
   "codemirror_mode": {
    "name": "ipython",
    "version": 3
   },
   "file_extension": ".py",
   "mimetype": "text/x-python",
   "name": "python",
   "nbconvert_exporter": "python",
   "pygments_lexer": "ipython3",
   "version": "3.6.5"
  }
 },
 "nbformat": 4,
 "nbformat_minor": 2
}
