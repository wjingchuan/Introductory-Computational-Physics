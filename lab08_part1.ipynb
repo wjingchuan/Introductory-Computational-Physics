{
 "cells": [
  {
   "cell_type": "code",
   "execution_count": 1,
   "metadata": {},
   "outputs": [],
   "source": [
    "# ******************************************************************\n",
    "# A program to compute numerical derivatives for the displacement of\n",
    "# a moving object.  This little code will generate the function values\n",
    "# and the analytical solutions of the derivative.\n",
    "# ******************************************************************\n",
    "# Jingchuan\n",
    "# PHYS 234\n",
    "# Department of Physics\n",
    "# University of Alberta\n",
    "# Edmonton, Alberta, Canada\n",
    "# Jan 1, 2019\n",
    "# ******************************************************************\n",
    " \n",
    "# Opens a file called \"lab08.in\" and write a 20 row, 3 column file.\n",
    "# In each row, col 1 = x value, col 2 = function y value, col 3 =\n",
    "# analytical derivative of y.  Use the variables x, y, der (derivative)\n",
    "# and file pointer above.\n",
    "# You need to save 20 sets of values for x = 0.6, 1.2, 1.8, 2.4 ...\n",
    "# Must use pow() function to compute the power of x.  For instructions\n",
    "# on pow(), use unix manual page by typing \"man pow\" at $prompt.\n",
    "\n",
    "fp = open('lab08_part1_py.out', 'w')\n",
    "x = 0.0\n",
    "for i in range(20):\n",
    "    y = 10. + 2.0 * x ** 2 + 1.2 * x ** 3.0\n",
    "    der = 4.0 * x + 1.2 * 3.0 * x ** 2\n",
    "    fp.write( \"%f %f %f\\n\" % (x, y, der) )\n",
    "    x += 0.6\n",
    "fp.close()"
   ]
  },
  {
   "cell_type": "code",
   "execution_count": null,
   "metadata": {},
   "outputs": [],
   "source": []
  }
 ],
 "metadata": {
  "kernelspec": {
   "display_name": "Python 3",
   "language": "python",
   "name": "python3"
  },
  "language_info": {
   "codemirror_mode": {
    "name": "ipython",
    "version": 3
   },
   "file_extension": ".py",
   "mimetype": "text/x-python",
   "name": "python",
   "nbconvert_exporter": "python",
   "pygments_lexer": "ipython3",
   "version": "3.6.5"
  }
 },
 "nbformat": 4,
 "nbformat_minor": 2
}
