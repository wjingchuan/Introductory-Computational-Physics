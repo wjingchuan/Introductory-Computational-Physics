{
 "cells": [
  {
   "cell_type": "code",
   "execution_count": 2,
   "metadata": {},
   "outputs": [
    {
     "name": "stdout",
     "output_type": "stream",
     "text": [
      "enter a random number: 1\n",
      "enter a random number: 4\n",
      "enter a random number: 6\n",
      "enter a random number: 5\n",
      "enter a random number: 7\n",
      "enter a random number: 9\n",
      "enter a random number: 14\n",
      "enter a random number: 11\n",
      "i = 0, element = 1\n",
      "i = 1, element = 5\n",
      "i = 2, element = 7\n",
      "i = 3, element = 9\n",
      "i = 4, element = 11\n"
     ]
    }
   ],
   "source": [
    "# ******************************************************************\n",
    "# Array exercise\n",
    "# ******************************************************************\n",
    "# Jingchuan\n",
    "# PHYS 234\n",
    "# Department of Physics\n",
    "# University of Alberta\n",
    "# Edmonton, Alberta, Canada\n",
    "# Dec 29, 2018\n",
    "# *****************************************************************/\n",
    "\n",
    "import numpy as np\n",
    "array1 = np.zeros(8);    # array1 should contain 8 integers input by user\n",
    "for i in range(8):\n",
    "    array1[i] = int(input(\"enter a random number: \"))\n",
    "array2 = []\n",
    "for i in range(8):\n",
    "    if array1[i] % 2 != 0:\n",
    "        array2.append(array1[i])\n",
    "nodd = len(array2)\n",
    "# prints out the odd elements of the original array\n",
    "for i in range(nodd):\n",
    "    print(\"i = %d, element = %d\" % (i, array2[i]))"
   ]
  },
  {
   "cell_type": "code",
   "execution_count": null,
   "metadata": {},
   "outputs": [],
   "source": []
  }
 ],
 "metadata": {
  "kernelspec": {
   "display_name": "Python 3",
   "language": "python",
   "name": "python3"
  },
  "language_info": {
   "codemirror_mode": {
    "name": "ipython",
    "version": 3
   },
   "file_extension": ".py",
   "mimetype": "text/x-python",
   "name": "python",
   "nbconvert_exporter": "python",
   "pygments_lexer": "ipython3",
   "version": "3.6.5"
  }
 },
 "nbformat": 4,
 "nbformat_minor": 2
}
