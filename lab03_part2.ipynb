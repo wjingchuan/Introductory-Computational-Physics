{
 "cells": [
  {
   "cell_type": "code",
   "execution_count": 1,
   "metadata": {},
   "outputs": [
    {
     "name": "stdout",
     "output_type": "stream",
     "text": [
      "choose one of the following:\n",
      "1. compute final velocity\n",
      "2. compute distance traveled\n",
      "enter: 2\n",
      "enter t value: 1\n",
      "The distance traveled = 5.900000\n",
      "enter t value: 2\n",
      "The distance traveled = 21.600000\n",
      "enter t value: 3\n",
      "The distance traveled = 47.100000\n",
      "enter t value: 4\n",
      "The distance traveled = 82.400000\n",
      "enter t value: 5\n",
      "The distance traveled = 127.500000\n",
      "enter t value: 6\n",
      "The distance traveled = 182.400000\n",
      "enter t value: 7\n",
      "The distance traveled = 247.100000\n",
      "enter t value: 8\n",
      "The distance traveled = 321.600000\n",
      "enter t value: 9\n",
      "The distance traveled = 405.900000\n",
      "enter t value: 7.5\n",
      "The distance traveled = 283.125000\n"
     ]
    }
   ],
   "source": [
    "# **************************************************************\n",
    "# This programs demonstrates substractive cancelation\n",
    "#\n",
    "# Your Name\n",
    "# PHYS 234\n",
    "# Department of Physics\n",
    "# University of Alberta\n",
    "# Edmonton, Alberta, CANADA\n",
    "# Junk here, remove me, but change to today's date\n",
    "# **************************************************************\n",
    "\n",
    "# this program computes freefall motion\n",
    "# t=time, v0=starting velocity, v1=final velocity, x=distance dropped\n",
    "v0 = 1.0\n",
    "g = 9.8  # gravitational accelration in m/(s^2)\n",
    "print(\"choose one of the following:\")\n",
    "print(\"1. compute final velocity\")\n",
    "print(\"2. compute distance traveled\")\n",
    "opt = int(input(\"enter: \"))\n",
    "iter = 1\n",
    "while iter <= 10:\n",
    "    t = float(input(\"enter t value: \"))\n",
    "    if opt==1 or opt==2:\n",
    "        if opt==1:\n",
    "            v1 = v0 + g * t\n",
    "            print(\"The final velocity = %f\" % v1)\n",
    "        if opt==2:\n",
    "            x = v0 * t + g * t**2 / 2.0\n",
    "            print(\"The distance traveled = %.2f\" % x)\n",
    "    else:\n",
    "        print(\"No soup for you!\")\n",
    "    iter += 1"
   ]
  },
  {
   "cell_type": "code",
   "execution_count": null,
   "metadata": {},
   "outputs": [],
   "source": []
  }
 ],
 "metadata": {
  "kernelspec": {
   "display_name": "Python 3",
   "language": "python",
   "name": "python3"
  },
  "language_info": {
   "codemirror_mode": {
    "name": "ipython",
    "version": 3
   },
   "file_extension": ".py",
   "mimetype": "text/x-python",
   "name": "python",
   "nbconvert_exporter": "python",
   "pygments_lexer": "ipython3",
   "version": "3.6.5"
  }
 },
 "nbformat": 4,
 "nbformat_minor": 2
}
