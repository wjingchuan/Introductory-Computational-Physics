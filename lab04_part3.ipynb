{
 "cells": [
  {
   "cell_type": "code",
   "execution_count": 8,
   "metadata": {},
   "outputs": [
    {
     "name": "stdout",
     "output_type": "stream",
     "text": [
      "enter time range t0: 0\n",
      "enter time range t1: 20\n",
      "enter dt: 1.5\n",
      "enter frequency of the wave in Hz: 5\n",
      "freq = 5.000000, angle = 31.400000\n",
      " 0.000  1.000\n",
      " 1.500  0.681\n",
      " 3.000 -0.072\n",
      " 4.500 -0.780\n",
      " 6.000 -0.990\n",
      " 7.500 -0.568\n",
      " 9.000  0.216\n",
      "10.500  0.862\n",
      "12.000  0.958\n",
      "13.500  0.443\n",
      "15.000 -0.354\n",
      "16.500 -0.926\n",
      "18.000 -0.907\n",
      "19.500 -0.309\n"
     ]
    }
   ],
   "source": [
    "# program to compute a simple wave\n",
    "from math import cos\n",
    "def calcwave(ang, t):\n",
    "    # compute wave amplitude\n",
    "    ang = ang * 3.14 / 180\n",
    "    ft = cos(ang * t)\n",
    "    return ft\n",
    "    \n",
    "t0 = float(input(\"enter time range t0: \"))\n",
    "t1 = float(input(\"enter time range t1: \"))\n",
    "dt = float(input(\"enter dt: \"))\n",
    "f = float(input(\"enter frequency of the wave in Hz: \"))\n",
    "\n",
    "angle = f * 3.14 * 2.\n",
    "print(\"freq = %f, angle = %f\" %(f, angle))\n",
    "\n",
    "t = t0\n",
    "while t <= t1:\n",
    "    ft = calcwave(angle, t)\n",
    "    print(\"%6.3f %6.3f\" %(t, ft))\n",
    "    t += dt"
   ]
  },
  {
   "cell_type": "code",
   "execution_count": null,
   "metadata": {},
   "outputs": [],
   "source": []
  }
 ],
 "metadata": {
  "kernelspec": {
   "display_name": "Python 3",
   "language": "python",
   "name": "python3"
  },
  "language_info": {
   "codemirror_mode": {
    "name": "ipython",
    "version": 3
   },
   "file_extension": ".py",
   "mimetype": "text/x-python",
   "name": "python",
   "nbconvert_exporter": "python",
   "pygments_lexer": "ipython3",
   "version": "3.6.5"
  }
 },
 "nbformat": 4,
 "nbformat_minor": 2
}
