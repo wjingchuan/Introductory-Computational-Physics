{
 "cells": [
  {
   "cell_type": "code",
   "execution_count": 7,
   "metadata": {},
   "outputs": [],
   "source": [
    "import numpy as np\n",
    "from math import log,exp\n",
    "\n",
    "def f(x):\n",
    "    return 1 / x + np.exp(1.2*x)\n",
    "\n",
    "def integral_dx( a,b,n ):\n",
    "    #integrate function (f) using monte carlo method\n",
    "    x = (b-a) * np.random.rand(n,1) + a\n",
    "    y = f(x)\n",
    "    count = len(x)\n",
    "    integration = (b-a) / count * np.sum(y)\n",
    "    return integration\n",
    "\n",
    "def F(x):\n",
    "    return log(x) + exp(1.2*x) / 1.2\n",
    "\n",
    "a = 0.05\n",
    "b = 2.0\n",
    "# analytical solution\n",
    "int_analytical = F(b) - F(a)\n",
    "fp = open('lab10_py.out', 'w')\n",
    "fp.write('analytic solution     = %f\\n' % int_analytical)\n",
    "# Monte Carlo numerical solution\n",
    "nstep = [10, 50, 500, 5000]\n",
    "for i in range(len(nstep)):\n",
    "    int_mc = integral_dx(a,b,nstep[i])\n",
    "    err = 100 * abs(int_mc - int_analytical) / abs(int_analytical)\n",
    "    fp.write('Number of Points in integration = %d\\n' % nstep[i])\n",
    "    fp.write('Result of numerical integration = %f\\n' % int_mc)\n",
    "    fp.write('Fractional error of integration = %f\\n' % err)\n",
    "    fp.write('\\n')\n",
    "fp.close()"
   ]
  },
  {
   "cell_type": "code",
   "execution_count": null,
   "metadata": {},
   "outputs": [],
   "source": []
  }
 ],
 "metadata": {
  "kernelspec": {
   "display_name": "Python 3",
   "language": "python",
   "name": "python3"
  },
  "language_info": {
   "codemirror_mode": {
    "name": "ipython",
    "version": 3
   },
   "file_extension": ".py",
   "mimetype": "text/x-python",
   "name": "python",
   "nbconvert_exporter": "python",
   "pygments_lexer": "ipython3",
   "version": "3.6.5"
  }
 },
 "nbformat": 4,
 "nbformat_minor": 2
}
