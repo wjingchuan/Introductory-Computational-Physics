{
 "cells": [
  {
   "cell_type": "code",
   "execution_count": 2,
   "metadata": {},
   "outputs": [
    {
     "name": "stdout",
     "output_type": "stream",
     "text": [
      "enter the total points for integration: 100\n",
      "analytical solution = 333.328455\n",
      "Numerical integration = 333.343147\n",
      "h = 0.095960,  error = 0.014693\n"
     ]
    }
   ],
   "source": [
    "# ******************************************************************\n",
    "# Program to compute the numerical integration of a function\n",
    "# using the Extended Trapezoid Rule.\n",
    "# ******************************************************************\n",
    "# Jingchuan\n",
    "# PHYS 234\n",
    "# Department of Physics\n",
    "# University of Alberta\n",
    "# Edmonton, Alberta, Canada\n",
    "# Dec 29, 2018\n",
    "# *****************************************************************/\n",
    "from math import exp\n",
    "coef_a = 0.2;   # coefficient \"a\" in the introduction */\n",
    "coef_b = 1.0;   # coefficient \"b\" in the introduction */\n",
    "decay = 2.0;    # the decay constant in the troduction */\n",
    "xmin = 0.5;     # lower limit of integration */\n",
    "xmax = 10.0;    # upper limit of integration */\n",
    "\n",
    "def calc_f(x):\n",
    "    f = coef_a * exp(-decay*x) + coef_b * x ** 2\n",
    "    return f\n",
    "\n",
    "def calc_analytic(xlow, xhigh):\n",
    "    sum0 = coef_a * (-0.5) * exp(-decay*xlow) + coef_b * xlow ** 3 / 3.0\n",
    "    sum1 = coef_a * (-0.5) * exp(-decay*xhigh) + coef_b * xhigh ** 3 / 3.0\n",
    "    intgl = sum1 - sum0\n",
    "    return intgl\n",
    "\n",
    "npt = int(input(\"enter the total points for integration: \"))\n",
    "sum_an = calc_analytic(xmin, xmax)\n",
    "print(\"analytical solution = %f\" % sum_an)\n",
    "h = (xmax - xmin) / (npt - 1)   # finds the x increment \"h\"\n",
    "x = xmin\n",
    "sum = 0.\n",
    "# Implement the Extended Trapezoidal rule \n",
    "for i in range(npt):\n",
    "    f = calc_f(x)\n",
    "    if i == 0 or i == npt-1:\n",
    "        sum = sum + 0.5 * f * h\n",
    "    else:\n",
    "        sum = sum + f * h\n",
    "    x += h\n",
    "print(\"Numerical integration = %f\" % sum)\n",
    "print(\"h = %f,  error = %f\" % (h, abs(sum-sum_an)) )"
   ]
  },
  {
   "cell_type": "code",
   "execution_count": null,
   "metadata": {},
   "outputs": [],
   "source": []
  }
 ],
 "metadata": {
  "kernelspec": {
   "display_name": "Python 3",
   "language": "python",
   "name": "python3"
  },
  "language_info": {
   "codemirror_mode": {
    "name": "ipython",
    "version": 3
   },
   "file_extension": ".py",
   "mimetype": "text/x-python",
   "name": "python",
   "nbconvert_exporter": "python",
   "pygments_lexer": "ipython3",
   "version": "3.6.5"
  }
 },
 "nbformat": 4,
 "nbformat_minor": 2
}
