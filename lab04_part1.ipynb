{
 "cells": [
  {
   "cell_type": "code",
   "execution_count": 7,
   "metadata": {},
   "outputs": [
    {
     "name": "stdout",
     "output_type": "stream",
     "text": [
      "Enter mass in kg's: 5.9736e24\n",
      "mass is 5.973600e+24 kg\n",
      "Enter radius in meters: 6378000\n",
      "radius is 6.378000e+06 m\n",
      "acceleration is 9.801\n",
      "Enter mass in kg's: 6.4185e23\n",
      "mass is 6.418500e+23 kg\n",
      "Enter radius in meters: 3402000\n",
      "radius is 3.402000e+06 m\n",
      "acceleration is 3.701\n",
      "Enter mass in kg's: 3.302e23\n",
      "mass is 3.302000e+23 kg\n",
      "Enter radius in meters: 2440000\n",
      "radius is 2.440000e+06 m\n",
      "acceleration is 3.702\n",
      "Enter mass in kg's: 7.348e22\n",
      "mass is 7.348000e+22 kg\n",
      "Enter radius in meters: 1738000\n",
      "radius is 1.738000e+06 m\n",
      "acceleration is 1.624\n",
      "Enter mass in kg's: 4.8685e24\n",
      "mass is 4.868500e+24 kg\n",
      "Enter radius in meters: 6052000\n",
      "radius is 6.052000e+06 m\n",
      "acceleration is 8.871\n"
     ]
    }
   ],
   "source": [
    "# program to compute acceleration due to gravity making use of formula\n",
    "# g = G*m/r^2\n",
    "# Jingchuan\n",
    "# PHYS 234\n",
    "# Department of Physics\n",
    "# University of Alberta\n",
    "# Nov. 24, 2018\n",
    "G = 6.6742e-11\n",
    "for i in range(5):\n",
    "    mass = float(input(\"Enter mass in kg's: \"))\n",
    "    print(\"mass is %e kg\" % mass)\n",
    "    \n",
    "    radius = float(input(\"Enter radius in meters: \"))\n",
    "    print(\"radius is %e m\" % radius)\n",
    "    \n",
    "    accel = G * mass / (radius ** 2)\n",
    "    print(\"acceleration is %.3f\" %accel)"
   ]
  },
  {
   "cell_type": "code",
   "execution_count": null,
   "metadata": {},
   "outputs": [],
   "source": []
  }
 ],
 "metadata": {
  "kernelspec": {
   "display_name": "Python 3",
   "language": "python",
   "name": "python3"
  },
  "language_info": {
   "codemirror_mode": {
    "name": "ipython",
    "version": 3
   },
   "file_extension": ".py",
   "mimetype": "text/x-python",
   "name": "python",
   "nbconvert_exporter": "python",
   "pygments_lexer": "ipython3",
   "version": "3.6.5"
  }
 },
 "nbformat": 4,
 "nbformat_minor": 2
}
