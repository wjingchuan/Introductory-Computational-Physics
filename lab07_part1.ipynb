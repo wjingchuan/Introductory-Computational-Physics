{
 "cells": [
  {
   "cell_type": "code",
   "execution_count": 2,
   "metadata": {},
   "outputs": [],
   "source": [
    "# ******************************************************************\n",
    "# a program to estimate the finite difference scheme solution of\n",
    "# free-fall motion.  This is also an exercise for arrays for and\n",
    "# file input/output.\n",
    "# ******************************************************************\n",
    "# Jingchuan\n",
    "# PHYS 234\n",
    "# Department of Physics\n",
    "# University of Alberta\n",
    "# Edmonton, Alberta, Canada\n",
    "# Jan 1, 2019\n",
    "# ******************************************************************\n",
    "\n",
    "g = 9.8    # grav, acceleration\n",
    "dt = 0.05  # time increment\n",
    "i = 1      # counter\n",
    "t_array = []\n",
    "err_array = []\n",
    "\n",
    "# initial conditions and parameters\n",
    "t = 0      # initial time (sec)\n",
    "y = 100    # initial height (m)\n",
    "v = 0      # initial velocity\n",
    "a = -g\n",
    "\n",
    "def Euler(y,v,a,t):\n",
    "    y = y + v * dt\n",
    "    v = v + a * dt\n",
    "    t = t + dt\n",
    "    return y,v,t\n",
    "\n",
    "while(y>0):\n",
    "    y,v,t = Euler(y,v,a,t)\n",
    "    t_array.append(t)\n",
    "    y_an = 100 - 0.5 * g * t ** 2\n",
    "    err_array.append( abs(y_an - y) / abs(y_an) )\n",
    "    i += 1\n",
    "\n",
    "f = open('lab07_part1_py.out', 'w')\n",
    "for i in range(len(t_array)):\n",
    "    f.write(\"%g %g\\n\" % (t_array[i], err_array[i]))\n",
    "f.close()"
   ]
  },
  {
   "cell_type": "code",
   "execution_count": null,
   "metadata": {},
   "outputs": [],
   "source": []
  }
 ],
 "metadata": {
  "kernelspec": {
   "display_name": "Python 3",
   "language": "python",
   "name": "python3"
  },
  "language_info": {
   "codemirror_mode": {
    "name": "ipython",
    "version": 3
   },
   "file_extension": ".py",
   "mimetype": "text/x-python",
   "name": "python",
   "nbconvert_exporter": "python",
   "pygments_lexer": "ipython3",
   "version": "3.6.5"
  }
 },
 "nbformat": 4,
 "nbformat_minor": 2
}
