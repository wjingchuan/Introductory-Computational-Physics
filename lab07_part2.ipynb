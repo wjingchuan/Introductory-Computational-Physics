{
 "cells": [
  {
   "cell_type": "code",
   "execution_count": 2,
   "metadata": {},
   "outputs": [
    {
     "name": "stdout",
     "output_type": "stream",
     "text": [
      "enter initial x:0.1\n",
      "enter step size dx:0.01\n",
      "enter number of steps:100\n"
     ]
    }
   ],
   "source": [
    "# **********************************************************\n",
    "# A program to solve dy/dx = -exp(-x)*sin(x)+exp(-x)*cos(x)\n",
    "# using Euler method. Also practices input and output.\n",
    "# Jeff Gu\n",
    "# PHYS 234\n",
    "# Department of Physics\n",
    "# University of Alberta\n",
    "# Edmonton, Alberta, Canada\n",
    "# Mar 5, 2006\n",
    "# **********************************************************/\n",
    "\n",
    "from math import cos,sin,exp\n",
    "import numpy as np\n",
    "MAXSTEP = 200\n",
    "\n",
    "y_an = np.zeros(MAXSTEP)\n",
    "# initial conditions and parameters\n",
    "x = float(input('enter initial x:'))\n",
    "dx = float(input('enter step size dx:'))\n",
    "n = int(input('enter number of steps:'))\n",
    "if n > MAXSTEP:\n",
    "    print(\"total steps must be < %d\" % MAXSTEP)\n",
    "    exit(\"sorry\")\n",
    "\n",
    "def analytic(x, dx, n, soln):\n",
    "    # computes analytical solution to y, save in soln[] */\n",
    "    for i in range(n):\n",
    "        soln[i] = exp(-x) * sin(x)\n",
    "        x = x + dx\n",
    "    return soln\n",
    "\n",
    "def Euler(y, x, dx):\n",
    "    # performs the Euler stepping, and computes numerical solution\n",
    "    y = y + (cos(x) * exp(-x) - sin(x) * exp(-x)) * dx\n",
    "    x = x + dx\n",
    "    return y,x\n",
    "\n",
    "# compute analytical solutions\n",
    "y_an = analytic(x, dx, n, y_an)\n",
    "\n",
    "y = y_an[1]  # set initial function value to analytical solution */\n",
    "fp = open('lab07_part2_py.out', 'w')\n",
    "for i in range(n):\n",
    "    y,x = Euler(y,x,dx)\n",
    "    fp.write(\"%f %f %f %f\\n\" % ( x, y, y_an[i], (y-y_an[i])) )\n",
    "fp.close()"
   ]
  },
  {
   "cell_type": "code",
   "execution_count": null,
   "metadata": {},
   "outputs": [],
   "source": []
  }
 ],
 "metadata": {
  "kernelspec": {
   "display_name": "Python 3",
   "language": "python",
   "name": "python3"
  },
  "language_info": {
   "codemirror_mode": {
    "name": "ipython",
    "version": 3
   },
   "file_extension": ".py",
   "mimetype": "text/x-python",
   "name": "python",
   "nbconvert_exporter": "python",
   "pygments_lexer": "ipython3",
   "version": "3.6.5"
  }
 },
 "nbformat": 4,
 "nbformat_minor": 2
}
