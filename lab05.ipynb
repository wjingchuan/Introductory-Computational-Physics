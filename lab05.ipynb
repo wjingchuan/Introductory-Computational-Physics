{
 "cells": [
  {
   "cell_type": "code",
   "execution_count": 9,
   "metadata": {},
   "outputs": [
    {
     "name": "stdout",
     "output_type": "stream",
     "text": [
      "analytical root t=2.093975, f=-0.000000, df=23.870955\n",
      "iteration 0,  f = 311.900000, df = 81.750000, t = 8.000000\n",
      "iteration 1,  f = 71.326565, df = 44.360153, t = 4.184709\n",
      "iteration 2,  f = 12.668133, df = 28.602761, t = 2.576812\n",
      "iteration 3,  f = 0.961182, df = 24.262351, t = 2.133913\n",
      "iteration 4,  f = 0.007690, df = 23.874112, t = 2.094297\n",
      "i=0,  t=8.000000\n",
      "i=1,  t=4.184709\n",
      "i=2,  t=2.576812\n",
      "i=3,  t=2.133913\n",
      "i=4,  t=2.094297\n"
     ]
    }
   ],
   "source": [
    "# this code finds the roots of a quadratic\n",
    "# expression for free fall using quadratic\n",
    "# convergence Newton=Raphson. The outcome t\n",
    "# determines whether my car gets damaged.\n",
    "# Jeff & TAs\n",
    "# Phys234, lab 5,\n",
    "# Dec 16, 2018.\n",
    "\n",
    "from math import sqrt\n",
    "import numpy as np\n",
    "tol = 0.0001\n",
    "nmax = 50\n",
    "tstart = 8.0\n",
    "coef_a = 4.9\n",
    "coef_b = 3.35\n",
    "coef_c = -28.5\n",
    "\n",
    "def quadratic(opt):\n",
    "    # implements the quadratic formula to find root, analytical\n",
    "    # solution. I am not checking the validity of opt.\n",
    "    if opt==0:\n",
    "        root = 0.5 * (-coef_b-sqrt(coef_b*coef_b-4*coef_a*coef_c)) / coef_a\n",
    "    else:\n",
    "        root = 0.5 * (-coef_b+sqrt(coef_b*coef_b-4*coef_a*coef_c)) / coef_a\n",
    "    return root\n",
    "\n",
    "def calc_f(t):\n",
    "    # calculates function value at t\n",
    "    f = coef_a * t**2 + coef_b * t + coef_c\n",
    "    return f\n",
    "\n",
    "def calc_df(t):\n",
    "    # calculates derivative of function value at t\n",
    "    df = 2.0 * coef_a * t + coef_b\n",
    "    return df\n",
    "\n",
    "def calc_newton():\n",
    "    i = 0\n",
    "    xarray = np.zeros(nmax)\n",
    "    # computes values for the starting value\n",
    "    t = tstart\n",
    "    f = calc_f(t)\n",
    "    df = calc_df(t)\n",
    "    while abs(f) > tol and i < nmax:\n",
    "        xarray[i] = t\n",
    "        print(\"iteration %d,  f = %f, df = %f, t = %f\" % (i, f, df, t))\n",
    "        i += 1\n",
    "        t = t - f / df\n",
    "        f = calc_f(t)\n",
    "        df = calc_df(t)\n",
    "    return xarray, i\n",
    "\n",
    "analytical = quadratic(1)\n",
    "f = calc_f(analytical)\n",
    "df = calc_df(analytical)\n",
    "print(\"analytical root t=%f, f=%f, df=%f\" % (analytical, f, df))\n",
    "# implements 2nd order Newton-Raphson\n",
    "tarray, n2 = calc_newton()\n",
    "for i in range(n2):\n",
    "    print(\"i=%d,  t=%f\" % (i, tarray[i]))"
   ]
  },
  {
   "cell_type": "code",
   "execution_count": null,
   "metadata": {},
   "outputs": [],
   "source": []
  }
 ],
 "metadata": {
  "kernelspec": {
   "display_name": "Python 3",
   "language": "python",
   "name": "python3"
  },
  "language_info": {
   "codemirror_mode": {
    "name": "ipython",
    "version": 3
   },
   "file_extension": ".py",
   "mimetype": "text/x-python",
   "name": "python",
   "nbconvert_exporter": "python",
   "pygments_lexer": "ipython3",
   "version": "3.6.5"
  }
 },
 "nbformat": 4,
 "nbformat_minor": 2
}
