{
 "cells": [
  {
   "cell_type": "code",
   "execution_count": 1,
   "metadata": {},
   "outputs": [
    {
     "name": "stdout",
     "output_type": "stream",
     "text": [
      "line one here\n",
      "it is the same line if you\n",
      " do not specify next line\n"
     ]
    }
   ],
   "source": [
    "# **************************************************************\n",
    "# This programs demonstrates substractive cancelation\n",
    "#\n",
    "# Your Name\n",
    "# PHYS 234\n",
    "# Department of Physics\n",
    "# University of Alberta\n",
    "# Edmonton, Alberta, CANADA\n",
    "# Junk here, remove me, but change to today's date\n",
    "# *************************************************************\n",
    "\n",
    "print(\"line one here\")\n",
    "print(\"it is the same line if you\")\n",
    "print(\" do not specify next line\")"
   ]
  },
  {
   "cell_type": "code",
   "execution_count": null,
   "metadata": {},
   "outputs": [],
   "source": []
  }
 ],
 "metadata": {
  "kernelspec": {
   "display_name": "Python 3",
   "language": "python",
   "name": "python3"
  },
  "language_info": {
   "codemirror_mode": {
    "name": "ipython",
    "version": 3
   },
   "file_extension": ".py",
   "mimetype": "text/x-python",
   "name": "python",
   "nbconvert_exporter": "python",
   "pygments_lexer": "ipython3",
   "version": "3.6.5"
  }
 },
 "nbformat": 4,
 "nbformat_minor": 2
}
